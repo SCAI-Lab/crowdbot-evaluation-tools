{
 "cells": [
  {
   "cell_type": "markdown",
   "id": "a2ca2df0",
   "metadata": {
    "toc": true
   },
   "source": [
    "<h1>Table of Contents<span class=\"tocSkip\"></span></h1>\n",
    "<div class=\"toc\"><ul class=\"toc-item\"><li><span><a href=\"#Read-from-rosbag\" data-toc-modified-id=\"Read-from-rosbag-1\"><span class=\"toc-item-num\">1&nbsp;&nbsp;</span>Read from rosbag</a></span></li><li><span><a href=\"#Analyzing-pointcloud\" data-toc-modified-id=\"Analyzing-pointcloud-2\"><span class=\"toc-item-num\">2&nbsp;&nbsp;</span>Analyzing pointcloud</a></span></li><li><span><a href=\"#Create-a-separate-file\" data-toc-modified-id=\"Create-a-separate-file-3\"><span class=\"toc-item-num\">3&nbsp;&nbsp;</span>Create a separate file</a></span></li></ul></div>"
   ]
  },
  {
   "cell_type": "code",
   "execution_count": 1,
   "id": "a4f97b20",
   "metadata": {},
   "outputs": [],
   "source": [
    "import os\n",
    "import yaml\n",
    "\n",
    "import numpy as np\n",
    "import rosbag\n",
    "\n",
    "from qolo.utils.process_util import get_xyzrgb_points, delete_rgb_field"
   ]
  },
  {
   "cell_type": "code",
   "execution_count": 2,
   "id": "fef6a6d1",
   "metadata": {},
   "outputs": [
    {
     "name": "stdout",
     "output_type": "stream",
     "text": [
      "2021-12-03-19-12-00.bag   2021-12-03-19-27-16.bag   2021-12-03-19-29-35.bag\r\n",
      "2021-12-03-19-12-00.yaml  2021-12-03-19-27-16.yaml  2021-12-03-19-29-35.yaml\r\n"
     ]
    }
   ],
   "source": [
    "!ls ~/Downloads/03-12-2021/manual/"
   ]
  },
  {
   "cell_type": "code",
   "execution_count": 3,
   "id": "524fddb2",
   "metadata": {},
   "outputs": [],
   "source": [
    "bag_file_path = os.path.join(\"/home/crowdbot/Downloads/03-12-2021/manual/\", \"2021-12-03-19-12-00.bag\")"
   ]
  },
  {
   "cell_type": "code",
   "execution_count": 4,
   "id": "9b65b65a",
   "metadata": {},
   "outputs": [
    {
     "data": {
      "text/plain": [
       "'/home/crowdbot/Downloads/03-12-2021/manual/2021-12-03-19-12-00.bag'"
      ]
     },
     "execution_count": 4,
     "metadata": {},
     "output_type": "execute_result"
    }
   ],
   "source": [
    "bag_file_path"
   ]
  },
  {
   "cell_type": "code",
   "execution_count": 5,
   "id": "3ad8c97f",
   "metadata": {},
   "outputs": [],
   "source": [
    "bag = rosbag.Bag(bag_file_path, \"r\")"
   ]
  },
  {
   "cell_type": "markdown",
   "id": "e29b5916",
   "metadata": {},
   "source": [
    "http://wiki.ros.org/rosbag/Cookbook"
   ]
  },
  {
   "cell_type": "markdown",
   "id": "5f5cd568",
   "metadata": {},
   "source": [
    "## Read from rosbag"
   ]
  },
  {
   "cell_type": "code",
   "execution_count": 6,
   "id": "ec5d41ac",
   "metadata": {},
   "outputs": [],
   "source": [
    "info_dict = yaml.load(bag._get_yaml_info(), Loader=yaml.FullLoader)"
   ]
  },
  {
   "cell_type": "markdown",
   "id": "e1f8cfa0",
   "metadata": {},
   "source": [
    "- `sensor_msgs/Image`\n",
    "- `sensor_msgs/CameraInfo`"
   ]
  },
  {
   "cell_type": "code",
   "execution_count": 7,
   "id": "2d74e793",
   "metadata": {},
   "outputs": [
    {
     "name": "stdout",
     "output_type": "stream",
     "text": [
      "Topic: /camera_left/aligned_depth_to_color/image_raw (665, 6.0026 Hz)\n",
      "Topic: /camera_left/color/image_raw (1543, 12.5983 Hz)\n",
      "Topic: /camera_left/depth/image_rect_raw (1250, 10.0001 Hz)\n",
      "Topic: /darknet_ros/detection_image (1011, 8.3988 Hz)\n",
      "Topic: /image_with_bounding_boxes (961, 8.4076 Hz)\n"
     ]
    }
   ],
   "source": [
    "filter_type = ['Image'] # , 'CameraInfo'\n",
    "\n",
    "for topic_msg_dict in info_dict['topics']:\n",
    "    if any(ft in topic_msg_dict['type'] for ft in filter_type):\n",
    "        print(\"Topic: {} ({}, {} Hz)\"\n",
    "              .format(topic_msg_dict['topic'], \n",
    "                      topic_msg_dict['messages'],\n",
    "                      topic_msg_dict['frequency']\n",
    "                     )\n",
    "             )"
   ]
  },
  {
   "cell_type": "code",
   "execution_count": 8,
   "id": "574d22d6",
   "metadata": {
    "scrolled": false
   },
   "outputs": [
    {
     "data": {
      "text/plain": [
       "{'path': '/home/crowdbot/Downloads/03-12-2021/manual/2021-12-03-19-12-00.bag',\n",
       " 'version': 2.0,\n",
       " 'duration': 121.018543,\n",
       " 'start': 1638555120.947663,\n",
       " 'end': 1638555241.966206,\n",
       " 'size': 7025870041,\n",
       " 'messages': 603154,\n",
       " 'indexed': True,\n",
       " 'compression': 'none',\n",
       " 'types': [{'type': 'darknet_ros_msgs/BoundingBoxes',\n",
       "   'md5': '004f6f4f48a741582d10735997905846'},\n",
       "  {'type': 'diagnostic_msgs/DiagnosticArray',\n",
       "   'md5': '60810da900de1dd6ddd437c3503511da'},\n",
       "  {'type': 'frame_msgs/DetectedPersons',\n",
       "   'md5': '029b53c4a16456adc9cba4f6be031872'},\n",
       "  {'type': 'frame_msgs/TrackedPersons',\n",
       "   'md5': '8a65c8b517318ce06c4758db5831e100'},\n",
       "  {'type': 'geometry_msgs/Pose2D', 'md5': '938fa65709584ad8e77d238529be13b8'},\n",
       "  {'type': 'geometry_msgs/TwistStamped',\n",
       "   'md5': '98d34b0043a2093cf9d9345ab6eef12e'},\n",
       "  {'type': 'geometry_msgs/WrenchStamped',\n",
       "   'md5': 'd78d3cb249ce23087ade7e7d0c40cfa7'},\n",
       "  {'type': 'nav_msgs/Odometry', 'md5': 'cd5e73d190d741a2f92e81eda573aca7'},\n",
       "  {'type': 'realsense2_camera/IMUInfo',\n",
       "   'md5': 'a02adb3a99530b11ba18a16f40f9512a'},\n",
       "  {'type': 'rwth_perception_people_msgs/GroundPlane',\n",
       "   'md5': '304eb2260bc88a91236784c7dd166ffd'},\n",
       "  {'type': 'rwth_perception_people_msgs/PedestrianTrackingArray',\n",
       "   'md5': 'a9f67479ca0db5489cca876d9f98fd50'},\n",
       "  {'type': 'sensor_msgs/CameraInfo',\n",
       "   'md5': 'c9a58c1b0b154e0e6da7578cb991d214'},\n",
       "  {'type': 'sensor_msgs/Image', 'md5': '060021388200f6f0f447d0fcd9c64743'},\n",
       "  {'type': 'sensor_msgs/Imu', 'md5': '6a62c6daae103f4ff57a132d6f95cec2'},\n",
       "  {'type': 'sensor_msgs/LaserScan', 'md5': '90c7ef2dc6895d81024acba2ac42f369'},\n",
       "  {'type': 'sensor_msgs/PointCloud2',\n",
       "   'md5': '1158d486dd51d683ce2f1be655c3c181'},\n",
       "  {'type': 'std_msgs/Bool', 'md5': '8b94c1b53db61fb6aed406028ad6332a'},\n",
       "  {'type': 'tf2_msgs/TFMessage', 'md5': '94810edda583a504dfda3829e70d7eec'}],\n",
       " 'topics': [{'topic': '/camera_left/aligned_depth_to_color/camera_info',\n",
       "   'type': 'sensor_msgs/CameraInfo',\n",
       "   'messages': 665,\n",
       "   'frequency': 5.9803},\n",
       "  {'topic': '/camera_left/aligned_depth_to_color/image_raw',\n",
       "   'type': 'sensor_msgs/Image',\n",
       "   'messages': 665,\n",
       "   'frequency': 6.0026},\n",
       "  {'topic': '/camera_left/color/camera_info',\n",
       "   'type': 'sensor_msgs/CameraInfo',\n",
       "   'messages': 1543,\n",
       "   'frequency': 12.6562},\n",
       "  {'topic': '/camera_left/color/image_raw',\n",
       "   'type': 'sensor_msgs/Image',\n",
       "   'messages': 1543,\n",
       "   'frequency': 12.5983},\n",
       "  {'topic': '/camera_left/depth/camera_info',\n",
       "   'type': 'sensor_msgs/CameraInfo',\n",
       "   'messages': 1251,\n",
       "   'frequency': 10.051},\n",
       "  {'topic': '/camera_left/depth/color/points',\n",
       "   'type': 'sensor_msgs/PointCloud2',\n",
       "   'messages': 660,\n",
       "   'frequency': 5.9609},\n",
       "  {'topic': '/camera_left/depth/image_rect_raw',\n",
       "   'type': 'sensor_msgs/Image',\n",
       "   'messages': 1250,\n",
       "   'frequency': 10.0001},\n",
       "  {'topic': '/darknet_ros/bounding_boxes',\n",
       "   'type': 'darknet_ros_msgs/BoundingBoxes',\n",
       "   'messages': 1011,\n",
       "   'frequency': 8.4093},\n",
       "  {'topic': '/darknet_ros/detection_image',\n",
       "   'type': 'sensor_msgs/Image',\n",
       "   'messages': 1011,\n",
       "   'frequency': 8.3988},\n",
       "  {'topic': '/detected_persons/yolo',\n",
       "   'type': 'frame_msgs/DetectedPersons',\n",
       "   'messages': 961,\n",
       "   'frequency': 8.3342},\n",
       "  {'topic': '/detected_persons_synchronized',\n",
       "   'type': 'frame_msgs/DetectedPersons',\n",
       "   'messages': 1016,\n",
       "   'frequency': 9.1165},\n",
       "  {'topic': '/diagnostics',\n",
       "   'type': 'diagnostic_msgs/DiagnosticArray',\n",
       "   'messages': 875,\n",
       "   'connections': 4,\n",
       "   'frequency': 9.9781},\n",
       "  {'topic': '/drow_detected_persons_front',\n",
       "   'type': 'frame_msgs/DetectedPersons',\n",
       "   'messages': 257,\n",
       "   'frequency': 2.3587},\n",
       "  {'topic': '/drow_detected_persons_rear',\n",
       "   'type': 'frame_msgs/DetectedPersons',\n",
       "   'messages': 266,\n",
       "   'frequency': 2.4062},\n",
       "  {'topic': '/front_lidar/scan',\n",
       "   'type': 'sensor_msgs/LaserScan',\n",
       "   'messages': 2418,\n",
       "   'frequency': 19.9081},\n",
       "  {'topic': '/front_lidar/scan_all',\n",
       "   'type': 'sensor_msgs/LaserScan',\n",
       "   'messages': 2416,\n",
       "   'frequency': 19.9664},\n",
       "  {'topic': '/front_lidar/velodyne_points',\n",
       "   'type': 'sensor_msgs/PointCloud2',\n",
       "   'messages': 2416,\n",
       "   'frequency': 19.9109},\n",
       "  {'topic': '/ground_plane',\n",
       "   'type': 'rwth_perception_people_msgs/GroundPlane',\n",
       "   'messages': 609,\n",
       "   'frequency': 5.0111},\n",
       "  {'topic': '/image_with_bounding_boxes',\n",
       "   'type': 'sensor_msgs/Image',\n",
       "   'messages': 961,\n",
       "   'frequency': 8.4076},\n",
       "  {'topic': '/qolo/emergency',\n",
       "   'type': 'std_msgs/Bool',\n",
       "   'messages': 1202,\n",
       "   'frequency': 10.2795},\n",
       "  {'topic': '/qolo/pose2D',\n",
       "   'type': 'geometry_msgs/Pose2D',\n",
       "   'messages': 7777,\n",
       "   'frequency': 110.133},\n",
       "  {'topic': '/qolo/twist',\n",
       "   'type': 'geometry_msgs/TwistStamped',\n",
       "   'messages': 1202,\n",
       "   'frequency': 10.2282},\n",
       "  {'topic': '/rear_lidar/scan',\n",
       "   'type': 'sensor_msgs/LaserScan',\n",
       "   'messages': 2405,\n",
       "   'frequency': 19.8945},\n",
       "  {'topic': '/rear_lidar/scan_all',\n",
       "   'type': 'sensor_msgs/LaserScan',\n",
       "   'messages': 2405,\n",
       "   'frequency': 19.9194},\n",
       "  {'topic': '/rear_lidar/velodyne_points',\n",
       "   'type': 'sensor_msgs/PointCloud2',\n",
       "   'messages': 2404,\n",
       "   'frequency': 19.843},\n",
       "  {'topic': '/rokubi_node_front/ft_sensor_measurements',\n",
       "   'type': 'geometry_msgs/WrenchStamped',\n",
       "   'messages': 48503,\n",
       "   'frequency': 569.2209},\n",
       "  {'topic': '/rwth_tracker/pedestrian_array',\n",
       "   'type': 'rwth_perception_people_msgs/PedestrianTrackingArray',\n",
       "   'messages': 639,\n",
       "   'frequency': 6.4323},\n",
       "  {'topic': '/rwth_tracker/tracked_persons',\n",
       "   'type': 'frame_msgs/TrackedPersons',\n",
       "   'messages': 639,\n",
       "   'frequency': 6.4413},\n",
       "  {'topic': '/t265/accel/imu_info',\n",
       "   'type': 'realsense2_camera/IMUInfo',\n",
       "   'messages': 1},\n",
       "  {'topic': '/t265/accel/sample',\n",
       "   'type': 'sensor_msgs/Imu',\n",
       "   'messages': 7621,\n",
       "   'frequency': 65.1062},\n",
       "  {'topic': '/t265/gyro/imu_info',\n",
       "   'type': 'realsense2_camera/IMUInfo',\n",
       "   'messages': 1},\n",
       "  {'topic': '/t265/gyro/sample',\n",
       "   'type': 'sensor_msgs/Imu',\n",
       "   'messages': 24229,\n",
       "   'frequency': 252.1297},\n",
       "  {'topic': '/t265/odom/sample',\n",
       "   'type': 'nav_msgs/Odometry',\n",
       "   'messages': 24220,\n",
       "   'frequency': 23045.6264},\n",
       "  {'topic': '/tf',\n",
       "   'type': 'tf2_msgs/TFMessage',\n",
       "   'messages': 438631,\n",
       "   'connections': 19,\n",
       "   'frequency': 15477.1365},\n",
       "  {'topic': '/tf_static',\n",
       "   'type': 'tf2_msgs/TFMessage',\n",
       "   'messages': 2,\n",
       "   'connections': 2,\n",
       "   'frequency': 3521.6658},\n",
       "  {'topic': 'qolo/compliance/svr',\n",
       "   'type': 'geometry_msgs/WrenchStamped',\n",
       "   'messages': 19479,\n",
       "   'frequency': 226.9645}]}"
      ]
     },
     "execution_count": 8,
     "metadata": {},
     "output_type": "execute_result"
    }
   ],
   "source": [
    "info_dict"
   ]
  },
  {
   "cell_type": "markdown",
   "id": "12b8a599",
   "metadata": {},
   "source": [
    "- test rosbag"
   ]
  },
  {
   "cell_type": "code",
   "execution_count": 9,
   "id": "d65a56ba",
   "metadata": {
    "scrolled": true
   },
   "outputs": [
    {
     "name": "stdout",
     "output_type": "stream",
     "text": [
      "<class 'tmpen3pvgsx._sensor_msgs__CameraInfo'>\n",
      "/camera_left/aligned_depth_to_color/camera_info\n",
      "<class 'tmpen3pvgsx._sensor_msgs__CameraInfo'>\n",
      "/camera_left/color/camera_info\n",
      "<class 'tmpen3pvgsx._sensor_msgs__CameraInfo'>\n",
      "/camera_left/aligned_depth_to_color/camera_info\n",
      "<class 'tmpen3pvgsx._sensor_msgs__CameraInfo'>\n",
      "/camera_left/depth/camera_info\n",
      "<class 'tmpen3pvgsx._sensor_msgs__CameraInfo'>\n",
      "/camera_left/depth/camera_info\n",
      "<class 'tmpen3pvgsx._sensor_msgs__CameraInfo'>\n",
      "/camera_left/depth/camera_info\n",
      "<class 'tmpen3pvgsx._sensor_msgs__CameraInfo'>\n",
      "/camera_left/depth/camera_info\n",
      "<class 'tmpen3pvgsx._sensor_msgs__CameraInfo'>\n",
      "/camera_left/color/camera_info\n",
      "<class 'tmpen3pvgsx._sensor_msgs__CameraInfo'>\n",
      "/camera_left/aligned_depth_to_color/camera_info\n",
      "<class 'tmpen3pvgsx._sensor_msgs__CameraInfo'>\n",
      "/camera_left/depth/camera_info\n",
      "<class 'tmpu24zjyyo._sensor_msgs__Image'>\n",
      "/camera_left/aligned_depth_to_color/image_raw\n",
      "<class 'tmpen3pvgsx._sensor_msgs__CameraInfo'>\n",
      "/camera_left/color/camera_info\n",
      "<class 'tmpen3pvgsx._sensor_msgs__CameraInfo'>\n",
      "/camera_left/aligned_depth_to_color/camera_info\n",
      "<class 'tmpen3pvgsx._sensor_msgs__CameraInfo'>\n",
      "/camera_left/depth/camera_info\n"
     ]
    }
   ],
   "source": [
    "cnt = 0\n",
    "for topic, msg, t in bag.read_messages():\n",
    "    cnt += 1\n",
    "    if cnt > 15:\n",
    "        break\n",
    "    if 'CameraInfo' in str(type(msg)):\n",
    "        print(type(msg))\n",
    "        print(topic)\n",
    "    elif 'Image' in str(type(msg)):\n",
    "        print(type(msg))\n",
    "        print(topic)\n",
    "        # ve_image_by_topic(base_dir, topic, msg, image_type)"
   ]
  },
  {
   "cell_type": "markdown",
   "id": "73aece0e",
   "metadata": {},
   "source": [
    "- pre-extracted yaml"
   ]
  },
  {
   "cell_type": "code",
   "execution_count": 10,
   "id": "a1654f44",
   "metadata": {
    "scrolled": false
   },
   "outputs": [
    {
     "name": "stdout",
     "output_type": "stream",
     "text": [
      "path: 2021-12-03-19-27-16.bag\r\n",
      "version: 2.0\r\n",
      "duration: 80.712159\r\n",
      "start: 1638556036.318765\r\n",
      "end: 1638556117.030924\r\n",
      "size: 4709937854\r\n",
      "messages: 402403\r\n",
      "indexed: True\r\n",
      "compression: none\r\n",
      "types:\r\n",
      "    - type: darknet_ros_msgs/BoundingBoxes\r\n",
      "      md5: 004f6f4f48a741582d10735997905846\r\n",
      "    - type: diagnostic_msgs/DiagnosticArray\r\n",
      "      md5: 60810da900de1dd6ddd437c3503511da\r\n",
      "    - type: frame_msgs/DetectedPersons\r\n",
      "      md5: 029b53c4a16456adc9cba4f6be031872\r\n",
      "    - type: frame_msgs/TrackedPersons\r\n",
      "      md5: 8a65c8b517318ce06c4758db5831e100\r\n",
      "    - type: geometry_msgs/Pose2D\r\n",
      "      md5: 938fa65709584ad8e77d238529be13b8\r\n",
      "    - type: geometry_msgs/TwistStamped\r\n",
      "      md5: 98d34b0043a2093cf9d9345ab6eef12e\r\n",
      "    - type: geometry_msgs/WrenchStamped\r\n",
      "      md5: d78d3cb249ce23087ade7e7d0c40cfa7\r\n",
      "    - type: nav_msgs/Odometry\r\n",
      "      md5: cd5e73d190d741a2f92e81eda573aca7\r\n",
      "    - type: realsense2_camera/IMUInfo\r\n",
      "      md5: a02adb3a99530b11ba18a16f40f9512a\r\n",
      "    - type: rwth_perception_people_msgs/GroundPlane\r\n",
      "      md5: 304eb2260bc88a91236784c7dd166ffd\r\n",
      "    - type: rwth_perception_people_msgs/PedestrianTrackingArray\r\n",
      "      md5: a9f67479ca0db5489cca876d9f98fd50\r\n",
      "    - type: sensor_msgs/CameraInfo\r\n",
      "      md5: c9a58c1b0b154e0e6da7578cb991d214\r\n",
      "    - type: sensor_msgs/Image\r\n",
      "      md5: 060021388200f6f0f447d0fcd9c64743\r\n",
      "    - type: sensor_msgs/Imu\r\n",
      "      md5: 6a62c6daae103f4ff57a132d6f95cec2\r\n",
      "    - type: sensor_msgs/LaserScan\r\n",
      "      md5: 90c7ef2dc6895d81024acba2ac42f369\r\n",
      "    - type: sensor_msgs/PointCloud2\r\n",
      "      md5: 1158d486dd51d683ce2f1be655c3c181\r\n",
      "    - type: std_msgs/Bool\r\n",
      "      md5: 8b94c1b53db61fb6aed406028ad6332a\r\n",
      "    - type: tf2_msgs/TFMessage\r\n",
      "      md5: 94810edda583a504dfda3829e70d7eec\r\n",
      "topics:\r\n",
      "    - topic: /camera_left/aligned_depth_to_color/camera_info\r\n",
      "      type: sensor_msgs/CameraInfo\r\n",
      "      messages: 443\r\n",
      "    - topic: /camera_left/aligned_depth_to_color/image_raw\r\n",
      "      type: sensor_msgs/Image\r\n",
      "      messages: 442\r\n",
      "    - topic: /camera_left/color/camera_info\r\n",
      "      type: sensor_msgs/CameraInfo\r\n",
      "      messages: 1051\r\n",
      "    - topic: /camera_left/color/image_raw\r\n",
      "      type: sensor_msgs/Image\r\n",
      "      messages: 1051\r\n",
      "    - topic: /camera_left/depth/camera_info\r\n",
      "      type: sensor_msgs/CameraInfo\r\n",
      "      messages: 831\r\n",
      "    - topic: /camera_left/depth/color/points\r\n",
      "      type: sensor_msgs/PointCloud2\r\n",
      "      messages: 441\r\n",
      "    - topic: /camera_left/depth/image_rect_raw\r\n",
      "      type: sensor_msgs/Image\r\n",
      "      messages: 830\r\n",
      "    - topic: /darknet_ros/bounding_boxes\r\n",
      "      type: darknet_ros_msgs/BoundingBoxes\r\n",
      "      messages: 667\r\n",
      "    - topic: /darknet_ros/detection_image\r\n",
      "      type: sensor_msgs/Image\r\n",
      "      messages: 667\r\n",
      "    - topic: /detected_persons/yolo\r\n",
      "      type: frame_msgs/DetectedPersons\r\n",
      "      messages: 644\r\n",
      "    - topic: /detected_persons_synchronized\r\n",
      "      type: frame_msgs/DetectedPersons\r\n",
      "      messages: 669\r\n",
      "    - topic: /diagnostics\r\n",
      "      type: diagnostic_msgs/DiagnosticArray\r\n",
      "      messages: 588\r\n",
      "      connections: 4\r\n",
      "    - topic: /drow_detected_persons_front\r\n",
      "      type: frame_msgs/DetectedPersons\r\n",
      "      messages: 189\r\n",
      "    - topic: /drow_detected_persons_rear\r\n",
      "      type: frame_msgs/DetectedPersons\r\n",
      "      messages: 190\r\n",
      "    - topic: /front_lidar/scan\r\n",
      "      type: sensor_msgs/LaserScan\r\n",
      "      messages: 1626\r\n",
      "    - topic: /front_lidar/scan_all\r\n",
      "      type: sensor_msgs/LaserScan\r\n",
      "      messages: 1626\r\n",
      "    - topic: /front_lidar/velodyne_points\r\n",
      "      type: sensor_msgs/PointCloud2\r\n",
      "      messages: 1624\r\n",
      "    - topic: /ground_plane\r\n",
      "      type: rwth_perception_people_msgs/GroundPlane\r\n",
      "      messages: 409\r\n",
      "    - topic: /image_with_bounding_boxes\r\n",
      "      type: sensor_msgs/Image\r\n",
      "      messages: 640\r\n",
      "    - topic: /qolo/emergency\r\n",
      "      type: std_msgs/Bool\r\n",
      "      messages: 3014\r\n",
      "    - topic: /qolo/pose2D\r\n",
      "      type: geometry_msgs/Pose2D\r\n",
      "      messages: 4132\r\n",
      "    - topic: /qolo/twist\r\n",
      "      type: geometry_msgs/TwistStamped\r\n",
      "      messages: 2994\r\n",
      "    - topic: /rear_lidar/scan\r\n",
      "      type: sensor_msgs/LaserScan\r\n",
      "      messages: 1612\r\n",
      "    - topic: /rear_lidar/scan_all\r\n",
      "      type: sensor_msgs/LaserScan\r\n",
      "      messages: 1612\r\n",
      "    - topic: /rear_lidar/velodyne_points\r\n",
      "      type: sensor_msgs/PointCloud2\r\n",
      "      messages: 1612\r\n",
      "    - topic: /rokubi_node_front/ft_sensor_measurements\r\n",
      "      type: geometry_msgs/WrenchStamped\r\n",
      "      messages: 32326\r\n",
      "    - topic: /rwth_tracker/pedestrian_array\r\n",
      "      type: rwth_perception_people_msgs/PedestrianTrackingArray\r\n",
      "      messages: 370\r\n",
      "    - topic: /rwth_tracker/tracked_persons\r\n",
      "      type: frame_msgs/TrackedPersons\r\n",
      "      messages: 370\r\n",
      "    - topic: /t265/accel/imu_info\r\n",
      "      type: realsense2_camera/IMUInfo\r\n",
      "      messages: 1\r\n",
      "    - topic: /t265/accel/sample\r\n",
      "      type: sensor_msgs/Imu\r\n",
      "      messages: 5105\r\n",
      "    - topic: /t265/gyro/imu_info\r\n",
      "      type: realsense2_camera/IMUInfo\r\n",
      "      messages: 1\r\n",
      "    - topic: /t265/gyro/sample\r\n",
      "      type: sensor_msgs/Imu\r\n",
      "      messages: 16210\r\n",
      "    - topic: /t265/odom/sample\r\n",
      "      type: nav_msgs/Odometry\r\n",
      "      messages: 16182\r\n",
      "    - topic: /tf\r\n",
      "      type: tf2_msgs/TFMessage\r\n",
      "      messages: 290546\r\n",
      "      connections: 19\r\n",
      "    - topic: /tf_static\r\n",
      "      type: tf2_msgs/TFMessage\r\n",
      "      messages: 2\r\n",
      "      connections: 2\r\n",
      "    - topic: qolo/compliance/svr\r\n",
      "      type: geometry_msgs/WrenchStamped\r\n",
      "      messages: 11686\r\n",
      "\r\n"
     ]
    }
   ],
   "source": [
    "!cat ~/Downloads/03-12-2021/manual/2021-12-03-19-27-16.yaml"
   ]
  },
  {
   "cell_type": "markdown",
   "id": "b3a5682d",
   "metadata": {},
   "source": [
    "## Analyzing pointcloud"
   ]
  },
  {
   "cell_type": "code",
   "execution_count": 11,
   "id": "c25dbe6b",
   "metadata": {},
   "outputs": [],
   "source": [
    "import sensor_msgs\n",
    "import ros_numpy"
   ]
  },
  {
   "cell_type": "code",
   "execution_count": 12,
   "id": "72dd3573",
   "metadata": {},
   "outputs": [
    {
     "name": "stdout",
     "output_type": "stream",
     "text": [
      "<class 'tmp04hxknq0._sensor_msgs__PointCloud2'>\n",
      "/camera_left/depth/color/points\n"
     ]
    }
   ],
   "source": [
    "cnt = 0\n",
    "for topic, msg, t in bag.read_messages():\n",
    "    cnt += 1\n",
    "    if cnt > 100:\n",
    "        break\n",
    "    if 'PointCloud2' in str(type(msg)):\n",
    "        print(type(msg))\n",
    "        print(topic)\n",
    "        if topic == '/camera_left/depth/color/points':\n",
    "            break"
   ]
  },
  {
   "cell_type": "markdown",
   "id": "3622b54b",
   "metadata": {},
   "source": [
    "> http://docs.ros.org/en/noetic/api/sensor_msgs/html/msg/PointCloud2.html\n",
    "\n",
    "```\n",
    "std_msgs/Header header\n",
    "uint32 height\n",
    "uint32 width\n",
    "sensor_msgs/PointField[] fields\n",
    "bool is_bigendian\n",
    "uint32 point_step\n",
    "uint32 row_step\n",
    "uint8[] data\n",
    "bool is_dense\n",
    "```"
   ]
  },
  {
   "cell_type": "code",
   "execution_count": 13,
   "id": "1765b125",
   "metadata": {},
   "outputs": [
    {
     "name": "stdout",
     "output_type": "stream",
     "text": [
      "1\n",
      "100331\n",
      "[name: \"x\"\n",
      "offset: 0\n",
      "datatype: 7\n",
      "count: 1, name: \"y\"\n",
      "offset: 4\n",
      "datatype: 7\n",
      "count: 1, name: \"z\"\n",
      "offset: 8\n",
      "datatype: 7\n",
      "count: 1, name: \"rgb\"\n",
      "offset: 16\n",
      "datatype: 7\n",
      "count: 1]\n"
     ]
    }
   ],
   "source": [
    "print(msg.height)\n",
    "# 2D structure of the point cloud. If the cloud is unordered, height is\n",
    "# 1 and width is the length of the point cloud.\n",
    "print(msg.width)\n",
    "print(msg.fields)\n",
    "\n",
    "# string name # Name of field\n",
    "# uint32 offset    # Offset from start of point struct\n",
    "# uint8  datatype  # Datatype enumeration, see above\n",
    "# uint32 count     # How many elements in the field\n",
    "# uint8 FLOAT32 = 7\n",
    "\n",
    "points = msg.data"
   ]
  },
  {
   "cell_type": "code",
   "execution_count": 14,
   "id": "ea6a6d59",
   "metadata": {},
   "outputs": [
    {
     "data": {
      "text/plain": [
       "bytes"
      ]
     },
     "execution_count": 14,
     "metadata": {},
     "output_type": "execute_result"
    }
   ],
   "source": [
    "type(points) # # Actual point data, size is (row_step*height)"
   ]
  },
  {
   "cell_type": "markdown",
   "id": "88ef4dd1",
   "metadata": {},
   "source": [
    "https://github.com/eric-wieser/ros_numpy/blob/master/src/ros_numpy/point_cloud2.py"
   ]
  },
  {
   "cell_type": "code",
   "execution_count": 15,
   "id": "e8d53d94",
   "metadata": {},
   "outputs": [],
   "source": [
    "pc_arr = ros_numpy.point_cloud2.pointcloud2_to_array(msg)\n",
    "# test_pc_xyzarr = ros_numpy.point_cloud2.pointcloud2_to_xyz_array(msg)"
   ]
  },
  {
   "cell_type": "code",
   "execution_count": 16,
   "id": "61cb64bb",
   "metadata": {},
   "outputs": [
    {
     "name": "stdout",
     "output_type": "stream",
     "text": [
      "(100331,)\n",
      "(100331,)\n"
     ]
    }
   ],
   "source": [
    "print(pc_arr.shape)\n",
    "x = pc_arr['x']\n",
    "y = pc_arr['y']\n",
    "z = pc_arr['z']\n",
    "rgb = pc_arr['rgb']\n",
    "xyzrgb_data = ros_numpy.point_cloud2.split_rgb_field(pc_arr)\n",
    "print(xyzrgb_data.shape)"
   ]
  },
  {
   "cell_type": "code",
   "execution_count": 17,
   "id": "be6bfbec",
   "metadata": {},
   "outputs": [
    {
     "data": {
      "text/plain": [
       "type"
      ]
     },
     "execution_count": 17,
     "metadata": {},
     "output_type": "execute_result"
    }
   ],
   "source": [
    "type(float)"
   ]
  },
  {
   "cell_type": "code",
   "execution_count": 18,
   "id": "f984a88b",
   "metadata": {},
   "outputs": [
    {
     "data": {
      "text/plain": [
       "dtype({'names':['x','y','z','rgb'], 'formats':['<f4','<f4','<f4','<f4'], 'offsets':[0,4,8,16], 'itemsize':20})"
      ]
     },
     "execution_count": 18,
     "metadata": {},
     "output_type": "execute_result"
    }
   ],
   "source": [
    "pc_arr = ros_numpy.point_cloud2.pointcloud2_to_array(msg)\n",
    "pc_arr.dtype"
   ]
  },
  {
   "cell_type": "code",
   "execution_count": 19,
   "id": "7e7c7553",
   "metadata": {},
   "outputs": [
    {
     "data": {
      "text/plain": [
       "(-1.6572479, -1.2785354, 3.183, 8.668242e-39)"
      ]
     },
     "execution_count": 19,
     "metadata": {},
     "output_type": "execute_result"
    }
   ],
   "source": [
    "pc_arr[0]"
   ]
  },
  {
   "cell_type": "code",
   "execution_count": 20,
   "id": "59cc653b",
   "metadata": {},
   "outputs": [],
   "source": [
    "new_pc_arr  = delete_rgb_field(pc_arr)"
   ]
  },
  {
   "cell_type": "code",
   "execution_count": 21,
   "id": "8caba421",
   "metadata": {},
   "outputs": [
    {
     "data": {
      "text/plain": [
       "(-1.6572479, -1.2785354, 3.183)"
      ]
     },
     "execution_count": 21,
     "metadata": {},
     "output_type": "execute_result"
    }
   ],
   "source": [
    "new_pc_arr[0]"
   ]
  },
  {
   "cell_type": "code",
   "execution_count": 22,
   "id": "902b7042",
   "metadata": {},
   "outputs": [],
   "source": [
    "filtered_msg = ros_numpy.point_cloud2.array_to_pointcloud2(\n",
    "    new_pc_arr, \n",
    "    stamp=msg.header.stamp, \n",
    "    frame_id=msg.header.frame_id)"
   ]
  },
  {
   "cell_type": "code",
   "execution_count": 23,
   "id": "11eddc49",
   "metadata": {},
   "outputs": [
    {
     "data": {
      "text/plain": [
       "[name: \"x\"\n",
       " offset: 0\n",
       " datatype: 7\n",
       " count: 1,\n",
       " name: \"y\"\n",
       " offset: 4\n",
       " datatype: 7\n",
       " count: 1,\n",
       " name: \"z\"\n",
       " offset: 8\n",
       " datatype: 7\n",
       " count: 1]"
      ]
     },
     "execution_count": 23,
     "metadata": {},
     "output_type": "execute_result"
    }
   ],
   "source": [
    "filtered_msg.fields"
   ]
  },
  {
   "cell_type": "code",
   "execution_count": 24,
   "id": "d719fe0d",
   "metadata": {},
   "outputs": [],
   "source": [
    "pc_xyz = ros_numpy.point_cloud2.pointcloud2_to_xyz_array(msg)"
   ]
  },
  {
   "cell_type": "code",
   "execution_count": 25,
   "id": "4a8c320a",
   "metadata": {},
   "outputs": [
    {
     "data": {
      "text/plain": [
       "(100331, 3)"
      ]
     },
     "execution_count": 25,
     "metadata": {},
     "output_type": "execute_result"
    }
   ],
   "source": [
    "pc_xyz.shape"
   ]
  },
  {
   "cell_type": "code",
   "execution_count": 26,
   "id": "a85c2d10",
   "metadata": {},
   "outputs": [
    {
     "data": {
      "text/plain": [
       "dtype('float64')"
      ]
     },
     "execution_count": 26,
     "metadata": {},
     "output_type": "execute_result"
    }
   ],
   "source": [
    "pc_xyz.dtype"
   ]
  },
  {
   "cell_type": "code",
   "execution_count": 27,
   "id": "de9c3372",
   "metadata": {},
   "outputs": [
    {
     "name": "stdout",
     "output_type": "stream",
     "text": [
      "1638555119690262999\n",
      "camera_left_depth_optical_frame\n"
     ]
    }
   ],
   "source": [
    "print(msg.header.stamp)\n",
    "print(msg.header.frame_id)"
   ]
  },
  {
   "cell_type": "code",
   "execution_count": 28,
   "id": "55bf8fc2",
   "metadata": {},
   "outputs": [
    {
     "data": {
      "text/plain": [
       "array([(-1.6572479, -1.2785354, 3.183    ,  94,  99, 136),\n",
       "       (-1.6407208, -1.2721084, 3.167    ,  85, 113, 139),\n",
       "       (-1.624277 , -1.2656817, 3.1510003,  63, 128, 144), ...,\n",
       "       ( 1.035721 ,  1.2395302, 3.285    , 119, 140, 140),\n",
       "       ( 1.0170842,  1.2890632, 3.3930001, 255, 253, 251),\n",
       "       ( 1.0204233,  1.2822247, 3.3750002, 255, 255, 255)],\n",
       "      dtype=[('x', '<f4'), ('y', '<f4'), ('z', '<f4'), ('r', 'u1'), ('g', 'u1'), ('b', 'u1')])"
      ]
     },
     "execution_count": 28,
     "metadata": {},
     "output_type": "execute_result"
    }
   ],
   "source": [
    "xyzrgb_data"
   ]
  },
  {
   "cell_type": "code",
   "execution_count": 29,
   "id": "341a16ab",
   "metadata": {},
   "outputs": [],
   "source": [
    "# xyz_points = ros_numpy.point_cloud2.get_xyz_points(xyzrgb_data, remove_nans=True)\n",
    "pts_xyz, pts_rgb = get_xyzrgb_points(xyzrgb_data, remove_nans=True)"
   ]
  },
  {
   "cell_type": "code",
   "execution_count": 30,
   "id": "14dcc730",
   "metadata": {},
   "outputs": [
    {
     "name": "stderr",
     "output_type": "stream",
     "text": [
      "INFO - 2022-02-04 02:14:57,507 - utils - Note: NumExpr detected 20 cores but \"NUMEXPR_MAX_THREADS\" not set, so enforcing safe limit of 8.\n",
      "INFO - 2022-02-04 02:14:57,507 - utils - NumExpr defaulting to 8 threads.\n"
     ]
    },
    {
     "name": "stdout",
     "output_type": "stream",
     "text": [
      "Jupyter environment detected. Enabling Open3D WebVisualizer.\n",
      "[Open3D INFO] WebRTC GUI backend enabled.\n",
      "[Open3D INFO] WebRTCWindowSystem: HTTP handshake server disabled.\n"
     ]
    },
    {
     "data": {
      "text/plain": [
       "True"
      ]
     },
     "execution_count": 30,
     "metadata": {},
     "output_type": "execute_result"
    }
   ],
   "source": [
    "import open3d as o3d\n",
    "pcd = o3d.geometry.PointCloud()\n",
    "pcd.points = o3d.utility.Vector3dVector(pts_xyz)\n",
    "pcd.colors = o3d.utility.Vector3dVector(pts_rgb)\n",
    "o3d.io.write_point_cloud(\"rs_pc_test.pcd\", pcd)"
   ]
  },
  {
   "cell_type": "markdown",
   "id": "5a607e41",
   "metadata": {},
   "source": [
    "## Create a separate file"
   ]
  },
  {
   "cell_type": "markdown",
   "id": "2e4c0336",
   "metadata": {},
   "source": [
    "> http://wiki.ros.org/rosbag/Cookbook#Create_a_cropped_bagfile"
   ]
  },
  {
   "cell_type": "code",
   "execution_count": 31,
   "id": "f6722ca3",
   "metadata": {},
   "outputs": [],
   "source": [
    "# import rosbag\n",
    "\n",
    "# num_msgs = 100\n",
    "\n",
    "# with rosbag.Bag('output.bag', 'w') as outbag:\n",
    "#     for topic, msg, t in rosbag.Bag('input.bag').read_messages():\n",
    "#         while num_msgs:\n",
    "#             outbag.write(topic, msg, t)\n",
    "#             num_msgs -= 1"
   ]
  },
  {
   "cell_type": "code",
   "execution_count": null,
   "id": "506c5212",
   "metadata": {},
   "outputs": [],
   "source": []
  }
 ],
 "metadata": {
  "kernelspec": {
   "display_name": "Python 3.8.12 64-bit ('py38cuda110': conda)",
   "language": "python",
   "name": "python3812jvsc74a57bd04c6b102e5d13e1fecd509d7afca2a015b7aa951d14e261cb21795c62f51c11cb"
  },
  "language_info": {
   "codemirror_mode": {
    "name": "ipython",
    "version": 3
   },
   "file_extension": ".py",
   "mimetype": "text/x-python",
   "name": "python",
   "nbconvert_exporter": "python",
   "pygments_lexer": "ipython3",
   "version": "3.8.12"
  },
  "toc": {
   "base_numbering": 1,
   "nav_menu": {},
   "number_sections": true,
   "sideBar": true,
   "skip_h1_title": false,
   "title_cell": "Table of Contents",
   "title_sidebar": "Contents",
   "toc_cell": true,
   "toc_position": {},
   "toc_section_display": true,
   "toc_window_display": true
  }
 },
 "nbformat": 4,
 "nbformat_minor": 5
}
