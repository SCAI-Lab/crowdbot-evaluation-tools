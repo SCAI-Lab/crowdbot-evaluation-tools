{
 "cells": [
  {
   "cell_type": "code",
   "execution_count": 1,
   "id": "61a1bca8-10a7-4de8-a904-1499f3c93824",
   "metadata": {},
   "outputs": [
    {
     "name": "stderr",
     "output_type": "stream",
     "text": [
      "/home/jupyter-dominik/AB3DMOT/Xinshuo_PyToolbox/xinshuo_math/bbox_3d_transform.py:8: NumbaDeprecationWarning: The 'nopython' keyword argument was not supplied to the 'numba.jit' decorator. The implicit default value for this argument is currently False, but it will be changed to True in Numba 0.59.0. See https://numba.readthedocs.io/en/stable/reference/deprecation.html#deprecation-of-object-mode-fall-back-behaviour-when-using-jit for details.\n",
      "  def poly_area(x,y):\n",
      "/home/jupyter-dominik/AB3DMOT/Xinshuo_PyToolbox/xinshuo_math/bbox_3d_transform.py:13: NumbaDeprecationWarning: The 'nopython' keyword argument was not supplied to the 'numba.jit' decorator. The implicit default value for this argument is currently False, but it will be changed to True in Numba 0.59.0. See https://numba.readthedocs.io/en/stable/reference/deprecation.html#deprecation-of-object-mode-fall-back-behaviour-when-using-jit for details.\n",
      "  def box3d_vol(corners):\n",
      "/home/jupyter-dominik/AB3DMOT/Xinshuo_PyToolbox/xinshuo_math/bbox_3d_transform.py:24: NumbaDeprecationWarning: The 'nopython' keyword argument was not supplied to the 'numba.jit' decorator. The implicit default value for this argument is currently False, but it will be changed to True in Numba 0.59.0. See https://numba.readthedocs.io/en/stable/reference/deprecation.html#deprecation-of-object-mode-fall-back-behaviour-when-using-jit for details.\n",
      "  def convex_hull_intersection(p1, p2):\n",
      "/home/jupyter-dominik/AB3DMOT/Xinshuo_PyToolbox/xinshuo_math/bbox_3d_transform.py:130: NumbaDeprecationWarning: The 'nopython' keyword argument was not supplied to the 'numba.jit' decorator. The implicit default value for this argument is currently False, but it will be changed to True in Numba 0.59.0. See https://numba.readthedocs.io/en/stable/reference/deprecation.html#deprecation-of-object-mode-fall-back-behaviour-when-using-jit for details.\n",
      "  def roty(t):\n",
      "/home/jupyter-dominik/AB3DMOT/AB3DMOT_libs/kitti_oxts.py:6: NumbaDeprecationWarning: The 'nopython' keyword argument was not supplied to the 'numba.jit' decorator. The implicit default value for this argument is currently False, but it will be changed to True in Numba 0.59.0. See https://numba.readthedocs.io/en/stable/reference/deprecation.html#deprecation-of-object-mode-fall-back-behaviour-when-using-jit for details.\n",
      "  def rotx(t):\n",
      "/home/jupyter-dominik/AB3DMOT/AB3DMOT_libs/kitti_oxts.py:15: NumbaDeprecationWarning: The 'nopython' keyword argument was not supplied to the 'numba.jit' decorator. The implicit default value for this argument is currently False, but it will be changed to True in Numba 0.59.0. See https://numba.readthedocs.io/en/stable/reference/deprecation.html#deprecation-of-object-mode-fall-back-behaviour-when-using-jit for details.\n",
      "  def roty(t):\n",
      "/home/jupyter-dominik/AB3DMOT/AB3DMOT_libs/kitti_oxts.py:24: NumbaDeprecationWarning: The 'nopython' keyword argument was not supplied to the 'numba.jit' decorator. The implicit default value for this argument is currently False, but it will be changed to True in Numba 0.59.0. See https://numba.readthedocs.io/en/stable/reference/deprecation.html#deprecation-of-object-mode-fall-back-behaviour-when-using-jit for details.\n",
      "  def rotz(t):\n",
      "/home/jupyter-dominik/AB3DMOT/AB3DMOT_libs/kitti_oxts.py:33: NumbaDeprecationWarning: The 'nopython' keyword argument was not supplied to the 'numba.jit' decorator. The implicit default value for this argument is currently False, but it will be changed to True in Numba 0.59.0. See https://numba.readthedocs.io/en/stable/reference/deprecation.html#deprecation-of-object-mode-fall-back-behaviour-when-using-jit for details.\n",
      "  def transform_from_rot_trans(R, t):\n",
      "/home/jupyter-dominik/AB3DMOT/AB3DMOT_libs/kitti_oxts.py:40: NumbaDeprecationWarning: The 'nopython' keyword argument was not supplied to the 'numba.jit' decorator. The implicit default value for this argument is currently False, but it will be changed to True in Numba 0.59.0. See https://numba.readthedocs.io/en/stable/reference/deprecation.html#deprecation-of-object-mode-fall-back-behaviour-when-using-jit for details.\n",
      "  def _poses_from_oxts(oxts_packets):\n"
     ]
    }
   ],
   "source": [
    "#!/usr/bin/env python3\n",
    "# -*-coding:utf-8 -*-\n",
    "# =============================================================================\n",
    "\"\"\"\n",
    "@Author        :   Yujie He\n",
    "@File          :   gen_tracking_res.py\n",
    "@Date created  :   2021/10/19\n",
    "@Maintainer    :   Yujie He\n",
    "@Email         :   yujie.he@epfl.ch\n",
    "\"\"\"\n",
    "# =============================================================================\n",
    "\"\"\"\n",
    "The module provides pedestrian tracking results from detection results based on\n",
    "AB3DMOT framework\n",
    "\"\"\"\n",
    "# =============================================================================\n",
    "\n",
    "\n",
    "import os\n",
    "import sys\n",
    "\n",
    "sys.path.append(\"/home/jupyter-dominik/AB3DMOT\")\n",
    "sys.path.append(\"/home/jupyter-dominik/AB3DMOT/Xinshuo_PyToolbox\")\n",
    "import argparse\n",
    "import numpy as np\n",
    "\n",
    "from qolo.core.crowdbot_data import CrowdBotDatabase\n",
    "from AB3DMOT_libs.model import AB3DMOT"
   ]
  },
  {
   "cell_type": "code",
   "execution_count": null,
   "id": "84f27211-46c1-4676-826d-c153e15656d9",
   "metadata": {},
   "outputs": [
    {
     "name": "stdout",
     "output_type": "stream",
     "text": [
      "(1/6): 2373 frames\n"
     ]
    },
    {
     "name": "stderr",
     "output_type": "stream",
     "text": [
      "/home/jupyter-dominik/AB3DMOT/AB3DMOT_libs/kitti_oxts.py:14: NumbaWarning: \n",
      "Compilation is falling back to object mode WITH looplifting enabled because Function roty failed at nopython mode lowering due to: \n",
      "  @jit\n",
      "/home/jupyter-dominik/.conda/envs/DAAV/lib/python3.8/site-packages/numba/core/utils.py:213: NumbaPendingDeprecationWarning: Code using Numba extension API maybe depending on 'old_style' error-capturing, which is deprecated and will be replaced by 'new_style' in a future release. See details at https://numba.readthedocs.io/en/latest/reference/deprecation.html#deprecation-of-old-style-numba-captured-errors\n",
      "Exception origin:\n",
      "  File \"/home/jupyter-dominik/.conda/envs/DAAV/lib/python3.8/site-packages/numba/cpython/listobj.py\", line 1131, in list_to_list\n",
      "    assert fromty.dtype == toty.dtype\n",
      "\n",
      "  warnings.warn(msg,\n",
      "/home/jupyter-dominik/.conda/envs/DAAV/lib/python3.8/site-packages/numba/core/object_mode_passes.py:151: NumbaWarning: Function \"roty\" was compiled in object mode without forceobj=True.\n",
      "\n",
      "File \"../../AB3DMOT/AB3DMOT_libs/kitti_oxts.py\", line 15:\n",
      "@jit\n",
      "def roty(t):\n",
      "^\n",
      "\n",
      "  warnings.warn(errors.NumbaWarning(warn_msg,\n",
      "/home/jupyter-dominik/.conda/envs/DAAV/lib/python3.8/site-packages/numba/core/object_mode_passes.py:161: NumbaDeprecationWarning: \n",
      "Fall-back from the nopython compilation path to the object mode compilation path has been detected. This is deprecated behaviour that will be removed in Numba 0.59.0.\n",
      "\n",
      "For more information visit https://numba.readthedocs.io/en/stable/reference/deprecation.html#deprecation-of-object-mode-fall-back-behaviour-when-using-jit\n",
      "\n",
      "File \"../../AB3DMOT/AB3DMOT_libs/kitti_oxts.py\", line 15:\n",
      "@jit\n",
      "def roty(t):\n",
      "^\n",
      "\n",
      "  warnings.warn(errors.NumbaDeprecationWarning(msg,\n",
      "/home/jupyter-dominik/AB3DMOT/AB3DMOT_libs/kitti_oxts.py:14: NumbaWarning: \n",
      "Compilation is falling back to object mode WITH looplifting enabled because Function roty failed at nopython mode lowering due to: \n",
      "  @jit\n",
      "/home/jupyter-dominik/.conda/envs/DAAV/lib/python3.8/site-packages/numba/core/utils.py:213: NumbaPendingDeprecationWarning: Code using Numba extension API maybe depending on 'old_style' error-capturing, which is deprecated and will be replaced by 'new_style' in a future release. See details at https://numba.readthedocs.io/en/latest/reference/deprecation.html#deprecation-of-old-style-numba-captured-errors\n",
      "Exception origin:\n",
      "  File \"/home/jupyter-dominik/.conda/envs/DAAV/lib/python3.8/site-packages/numba/cpython/listobj.py\", line 1131, in list_to_list\n",
      "    assert fromty.dtype == toty.dtype\n",
      "\n",
      "  warnings.warn(msg,\n",
      "/home/jupyter-dominik/.conda/envs/DAAV/lib/python3.8/site-packages/numba/core/object_mode_passes.py:151: NumbaWarning: Function \"roty\" was compiled in object mode without forceobj=True.\n",
      "\n",
      "File \"../../AB3DMOT/AB3DMOT_libs/kitti_oxts.py\", line 15:\n",
      "@jit\n",
      "def roty(t):\n",
      "^\n",
      "\n",
      "  warnings.warn(errors.NumbaWarning(warn_msg,\n",
      "/home/jupyter-dominik/.conda/envs/DAAV/lib/python3.8/site-packages/numba/core/object_mode_passes.py:161: NumbaDeprecationWarning: \n",
      "Fall-back from the nopython compilation path to the object mode compilation path has been detected. This is deprecated behaviour that will be removed in Numba 0.59.0.\n",
      "\n",
      "For more information visit https://numba.readthedocs.io/en/stable/reference/deprecation.html#deprecation-of-object-mode-fall-back-behaviour-when-using-jit\n",
      "\n",
      "File \"../../AB3DMOT/AB3DMOT_libs/kitti_oxts.py\", line 15:\n",
      "@jit\n",
      "def roty(t):\n",
      "^\n",
      "\n",
      "  warnings.warn(errors.NumbaDeprecationWarning(msg,\n"
     ]
    },
    {
     "name": "stdout",
     "output_type": "stream",
     "text": [
      "(2/6): 2375 frames\n"
     ]
    },
    {
     "ename": "TypeError",
     "evalue": "remove: path should be string, bytes or os.PathLike, not NoneType",
     "output_type": "error",
     "traceback": [
      "\u001b[0;31m---------------------------------------------------------------------------\u001b[0m",
      "\u001b[0;31mTypeError\u001b[0m                                 Traceback (most recent call last)",
      "File \u001b[0;32mmessagestream.pyx:91\u001b[0m, in \u001b[0;36mscipy._lib.messagestream.MessageStream.close\u001b[0;34m()\u001b[0m\n",
      "\u001b[0;31mTypeError\u001b[0m: remove: path should be string, bytes or os.PathLike, not NoneType"
     ]
    },
    {
     "name": "stderr",
     "output_type": "stream",
     "text": [
      "Exception ignored in: 'scipy._lib.messagestream.MessageStream.__dealloc__'\n",
      "Traceback (most recent call last):\n",
      "  File \"messagestream.pyx\", line 91, in scipy._lib.messagestream.MessageStream.close\n",
      "TypeError: remove: path should be string, bytes or os.PathLike, not NoneType\n"
     ]
    }
   ],
   "source": [
    "def reorder(boxes):\n",
    "    # from x, y, z,  l,  w, h, theta (lidar frame: x-forward, y-left, z-up)\n",
    "    # to   h, w, l, -y, -z, x, theta (cam frame: z-forward, x-right, y-down)\n",
    "    inds = [5, 4, 3, 1, 2, 0, 6]\n",
    "    boxes = boxes[:, inds]\n",
    "    boxes[:, 3] *= -1\n",
    "    boxes[:, 4] *= -1\n",
    "    return boxes\n",
    "\n",
    "\n",
    "def reorder_back(boxes):\n",
    "    # from h, w, l, -y, -z, x, theta, ID\n",
    "    # to   x, y, z,  l,  w, h, theta, ID\n",
    "    inds = [5, 3, 4, 2, 1, 0, 6, 7]\n",
    "    boxes = boxes[:, inds]\n",
    "    boxes[:, 1] *= -1\n",
    "    boxes[:, 2] *= -1\n",
    "    return boxes\n",
    "\n",
    "\n",
    "if __name__ == \"__main__\":\n",
    "    # parser = argparse.ArgumentParser(description=\"convert data from rosbag\")\n",
    "\n",
    "    # parser.add_argument(\n",
    "    #     \"-f\",\n",
    "    #     \"--folder\",\n",
    "    #     default=\"0424_mds_test\",\n",
    "    #     type=str,\n",
    "    #     help=\"different subfolder in rosbag/ dir\",\n",
    "    # )\n",
    "    # parser.add_argument(\n",
    "    #     \"--overwrite\",\n",
    "    #     dest=\"overwrite\",\n",
    "    #     action=\"store_true\",\n",
    "    #     help=\"Whether to overwrite existing output (default: false)\",\n",
    "    # )\n",
    "    # parser.set_defaults(overwrite=False)\n",
    "    # parser.add_argument(\n",
    "    #     \"--save_raw\",\n",
    "    #     dest=\"save_raw\",\n",
    "    #     action=\"store_true\",\n",
    "    #     help=\"Whether to save raw data of detection results (default: false)\",\n",
    "    # )\n",
    "    # parser.set_defaults(save_raw=False)\n",
    "    # args = parser.parse_args()\n",
    "\n",
    "    class cfg:\n",
    "        def __init__(self, folder, overwrite, save_raw):\n",
    "            self.folder = folder\n",
    "            self.overwrite = overwrite\n",
    "            self.save_raw = save_raw\n",
    "\n",
    "    args = cfg(folder=\"0424_mds_test\", overwrite=True, save_raw=False)\n",
    "        \n",
    "    \n",
    "    min_conf = 0.5\n",
    "\n",
    "    #SERVER\n",
    "    config_path = '/scai_data/data01/daav/CrowdBot/config/data_path.yaml'\n",
    "\n",
    "    cb_data = CrowdBotDatabase(args.folder, config=config_path)\n",
    "\n",
    "    counter = 0\n",
    "    seq_num = cb_data.nr_seqs()\n",
    "\n",
    "    for seq_idx in range(seq_num):\n",
    "        seq = cb_data.seqs[seq_idx]\n",
    "\n",
    "        counter += 1\n",
    "        print(\"({}/{}): {} frames\".format(counter, seq_num, cb_data.nr_frames(seq_idx)))\n",
    "\n",
    "        # seq dest: data/xxxx_processed/alg_res/tracks/seq\n",
    "        if args.save_raw:\n",
    "            trk_seq_dir = os.path.join(cb_data.trks_dir, seq)\n",
    "        tnpy_all_path = os.path.join(cb_data.trks_dir, seq + '.npy')\n",
    "\n",
    "        if not os.path.exists(tnpy_all_path) or args.overwrite:\n",
    "            out_trk_all = dict()\n",
    "\n",
    "            # tracker = AB3DMOT(max_age=2, min_hits=3)\n",
    "            log = os.path.join(cb_data.alg_res_dir, \"logs\", seq + '.txt')\n",
    "            tracker = AB3DMOT(max_age=10, min_hits=3, log=log)  # lidar is about 10 FPS\n",
    "\n",
    "            for fr_idx in range(cb_data.nr_frames(seq_idx)):\n",
    "                _, dets, dets_conf, _ = cb_data[seq_idx, fr_idx]\n",
    "\n",
    "                dets = dets[dets_conf > min_conf]\n",
    "                dets = reorder(dets)\n",
    "                trk_input = {\"dets\": dets, \"info\": np.zeros_like(dets)}\n",
    "                trks = tracker.track(trk_input, fr_idx, cb_data.seqs[seq_idx])[0][0][:8]\n",
    "                trks = reorder_back(trks)\n",
    "\n",
    "                if fr_idx == 0:\n",
    "                    # find the smallest id and normalize to 1\n",
    "                    min_id = min(trks[:, -1])\n",
    "                    offset = min_id - 1\n",
    "                trks[:, -1] = trks[:, -1] - offset\n",
    "\n",
    "                if args.save_raw:\n",
    "                    f_path = os.path.join(\n",
    "                        trk_seq_dir,\n",
    "                        cb_data.frames[seq_idx][fr_idx].replace(\"nby\", \"txt\"),\n",
    "                    )\n",
    "                    os.makedirs(trk_seq_dir, exist_ok=True)\n",
    "                    np.savetxt(f_path, trks, delimiter=\",\")\n",
    "                out_trk_all.update({fr_idx: trks})\n",
    "            np.save(\n",
    "                tnpy_all_path,\n",
    "                out_trk_all,\n",
    "            )\n",
    "        else:\n",
    "            print(\"{} tracking results already generated!!!\".format(seq))\n",
    "            print(\"Will not overwrite. If you want to overwrite, use flag --overwrite\")\n",
    "            continue"
   ]
  },
  {
   "cell_type": "code",
   "execution_count": 5,
   "id": "357824ee-f2a8-4299-9255-3e0fbf123aa0",
   "metadata": {},
   "outputs": [
    {
     "ename": "AttributeError",
     "evalue": "'list' object has no attribute 'shape'",
     "output_type": "error",
     "traceback": [
      "\u001b[0;31m---------------------------------------------------------------------------\u001b[0m",
      "\u001b[0;31mAttributeError\u001b[0m                            Traceback (most recent call last)",
      "Cell \u001b[0;32mIn[5], line 1\u001b[0m\n\u001b[0;32m----> 1\u001b[0m \u001b[43mtrks\u001b[49m\u001b[38;5;241;43m.\u001b[39;49m\u001b[43mshape\u001b[49m\n",
      "\u001b[0;31mAttributeError\u001b[0m: 'list' object has no attribute 'shape'"
     ]
    }
   ],
   "source": [
    "trks.shape"
   ]
  },
  {
   "cell_type": "code",
   "execution_count": 3,
   "id": "16b9cc29-28ba-4076-bebc-a2daccbe42ea",
   "metadata": {},
   "outputs": [
    {
     "data": {
      "text/plain": [
       "(21, 15)"
      ]
     },
     "execution_count": 3,
     "metadata": {},
     "output_type": "execute_result"
    }
   ],
   "source": [
    "trks[0].shape"
   ]
  },
  {
   "cell_type": "code",
   "execution_count": null,
   "id": "ea230560-d002-4818-8062-47635ddfc5a6",
   "metadata": {},
   "outputs": [],
   "source": []
  }
 ],
 "metadata": {
  "kernelspec": {
   "display_name": "Python (DAAV)",
   "language": "python",
   "name": "daav"
  },
  "language_info": {
   "codemirror_mode": {
    "name": "ipython",
    "version": 3
   },
   "file_extension": ".py",
   "mimetype": "text/x-python",
   "name": "python",
   "nbconvert_exporter": "python",
   "pygments_lexer": "ipython3",
   "version": "3.8.10"
  }
 },
 "nbformat": 4,
 "nbformat_minor": 5
}
